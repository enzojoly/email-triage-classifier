{
 "cells": [
  {
   "cell_type": "markdown",
   "id": "86c2cfab-0afc-47ae-b1d3-b3f1db308a93",
   "metadata": {},
   "source": [
    "# Faker Data Enrichment Experiment\n",
    "\n",
    "This notebook demonstrates how to append synthetic, contextually relevant data to \"Ticket Descriptions\" using the Faker library. The goal is to enrich existing ticket descriptions based on their \"Actual Service\" category."
   ]
  },
  {
   "cell_type": "markdown",
   "id": "2bf7351f-3889-41de-b653-8bef940de567",
   "metadata": {},
   "source": [
    "#### 0. [Temporary workaround for \"Module not found\" error]"
   ]
  },
  {
   "cell_type": "code",
   "execution_count": 1,
   "id": "9ec50ae3-1ba0-4edb-aa7d-bc9a71c6e466",
   "metadata": {},
   "outputs": [
    {
     "name": "stdout",
     "output_type": "stream",
     "text": [
      "Collecting Faker\n",
      "  Using cached Faker-24.2.0-py3-none-any.whl.metadata (15 kB)\n",
      "Requirement already satisfied: pandas in /opt/conda/lib/python3.11/site-packages (2.2.1)\n",
      "Requirement already satisfied: python-dateutil>=2.4 in /opt/conda/lib/python3.11/site-packages (from Faker) (2.8.2)\n",
      "Requirement already satisfied: numpy<2,>=1.23.2 in /opt/conda/lib/python3.11/site-packages (from pandas) (1.26.4)\n",
      "Requirement already satisfied: pytz>=2020.1 in /opt/conda/lib/python3.11/site-packages (from pandas) (2023.3.post1)\n",
      "Requirement already satisfied: tzdata>=2022.7 in /opt/conda/lib/python3.11/site-packages (from pandas) (2024.1)\n",
      "Requirement already satisfied: six>=1.5 in /opt/conda/lib/python3.11/site-packages (from python-dateutil>=2.4->Faker) (1.16.0)\n",
      "Using cached Faker-24.2.0-py3-none-any.whl (1.8 MB)\n",
      "Installing collected packages: Faker\n",
      "Successfully installed Faker-24.2.0\n"
     ]
    }
   ],
   "source": [
    "# Install Faker directly within the Jupyter notebook\n",
    "!pip install Faker pandas\n"
   ]
  },
  {
   "cell_type": "markdown",
   "id": "81ec2f62-7369-40ab-a9fe-fcdd33d76909",
   "metadata": {},
   "source": [
    "#### 1. Import Necessary Libraries\n",
    "\n",
    "First, we import the Python libraries needed for this experiment: `Faker` for generating synthetic data and `pandas` for data manipulation.\n"
   ]
  },
  {
   "cell_type": "code",
   "execution_count": 2,
   "id": "aedb9340-e6ce-430a-8090-82d50c8af287",
   "metadata": {},
   "outputs": [],
   "source": [
    "from faker import Faker\n",
    "import pandas as pd\n",
    "fake = Faker()\n"
   ]
  },
  {
   "cell_type": "markdown",
   "id": "f38f4309-898e-429d-88d2-df0af4665b06",
   "metadata": {},
   "source": [
    "#### 2. Define Service Keywords\n",
    "\n",
    "For each \"Actual Service\" category, we define a set of keywords that are contextually relevant. These keywords will help in generating ticket descriptions that are somewhat related to the service.\n"
   ]
  },
  {
   "cell_type": "code",
   "execution_count": 3,
   "id": "32825b1e-492d-4b66-a00e-646f93cfeed3",
   "metadata": {},
   "outputs": [],
   "source": [
    "# Define keywords and phrases for each \"Actual Service\"\n",
    "\n",
    "service_keywords = {\n",
    "    \"UWE Devices and Hardware Support\": [\"device\", \"hardware\", \"malfunction\", \"repair\", \"support\"],\n",
    "    \"Software Delivery\": [\"software\", \"delivery\", \"installation\", \"update\", \"license\"],\n",
    "    \"IT Service Desk and Customer Support\": [\"support\", \"ticket\", \"query\", \"resolution\", \"helpdesk\"],\n",
    "    \"Lecture and AV Technologies\": [\"lecture\", \"audio\", \"video\", \"technology\", \"presentation\"],\n",
    "    \"Virtual Environments\": [\"virtual\", \"environment\", \"simulation\", \"cloud\", \"hosting\"],\n",
    "    \"Student Application Experience\": [\"application\", \"experience\", \"user\", \"interface\", \"navigation\"],\n",
    "    \"Digital Learning\": [\"digital\", \"learning\", \"elearning\", \"course\", \"online\"],\n",
    "    \"Facilities - Business Systems\": [\"facility\", \"business\", \"system\", \"management\", \"operation\"],\n",
    "    \"Password and Identity Management\": [\"password\", \"identity\", \"security\", \"authentication\", \"access\"],\n",
    "    \"Staff Printing\": [\"printing\", \"document\", \"print\", \"paper\", \"ink\"],\n",
    "    \"Facilities - Operations\": [\"facility\", \"operation\", \"maintenance\", \"service\", \"infrastructure\"],\n",
    "    \"Collaboration Tools\": [\"collaboration\", \"tool\", \"software\", \"teamwork\", \"communication\"],\n",
    "    \"Remote Connectivity\": [\"remote\", \"connectivity\", \"VPN\", \"access\", \"network\"],\n",
    "    \"Student Records/Administration\": [\"record\", \"administration\", \"student\", \"data\", \"management\"],\n",
    "    \"Web and intranet systems\": [\"web\", \"intranet\", \"portal\", \"site\", \"content\"],\n",
    "    \"Student Printing\": [\"student\", \"printing\", \"print\", \"document\", \"paper\"],\n",
    "    \"UWE Device Management\": [\"device\", \"management\", \"inventory\", \"tracking\", \"asset\"],\n",
    "    \"PC, Mobile Device, and Software Delivery\": [\"PC\", \"mobile\", \"software\", \"device\", \"delivery\"],\n",
    "    \"Email and Calendaring\": [\"email\", \"calendar\", \"scheduling\", \"communication\", \"appointment\"],\n",
    "    \"WiFi Networks\": [\"WiFi\", \"network\", \"connectivity\", \"wireless\", \"internet\"],\n",
    "    \"Web Services\": [\"web\", \"service\", \"API\", \"online\", \"integration\"],\n",
    "    \"Telephony and Video Conferencing\": [\"telephony\", \"video\", \"conference\", \"call\", \"communication\"],\n",
    "    \"Service Desk and Customer Support\": [\"service\", \"desk\", \"support\", \"helpdesk\", \"customer\"],\n",
    "    \"Software Usage and Availability\": [\"software\", \"usage\", \"availability\", \"license\", \"access\"],\n",
    "    \"Authentication and Identity Management\": [\"authentication\", \"identity\", \"security\", \"login\", \"access\"],\n",
    "    \"Desktop Software Deployment\": [\"desktop\", \"software\", \"deployment\", \"installation\", \"update\"],\n",
    "    \"Virtual Learning Environments\": [\"virtual\", \"learning\", \"environment\", \"elearning\", \"platform\"],\n",
    "    \"Student Journey Systems\": [\"student\", \"journey\", \"system\", \"management\", \"tracking\"],\n",
    "    \"Networking Service\": [\"network\", \"service\", \"connectivity\", \"infrastructure\", \"internet\"],\n",
    "    \"Teaching and Audio Visual Support\": [\"teaching\", \"audio\", \"visual\", \"support\", \"classroom\"],\n",
    "    \"Monitoring and Reporting Services\": [\"monitoring\", \"reporting\", \"service\", \"analytics\", \"data\"],\n",
    "    \"Finance Systems\": [\"finance\", \"system\", \"accounting\", \"budget\", \"transaction\"],\n",
    "    \"Email and Calendars\": [\"email\", \"calendar\", \"scheduling\", \"communication\", \"appointment\"],\n",
    "    \"File Storage\": [\"file\", \"storage\", \"data\", \"cloud\", \"archive\"],\n",
    "    \"Campus phone handsets/headsets\": [\"campus\", \"phone\", \"handset\", \"headset\", \"telephony\"],\n",
    "    \"Timetabling Systems\": [\"timetable\", \"system\", \"scheduling\", \"planning\", \"calendar\"],\n",
    "    \"Data/Application Integration\": [\"data\", \"application\", \"integration\", \"system\", \"software\"],\n",
    "    \"Telephone Switchboard\": [\"telephone\", \"switchboard\", \"call\", \"communication\", \"routing\"],\n",
    "    \"HR Systems\": [\"HR\", \"human\", \"resource\", \"management\", \"employee\"],\n",
    "    \"Database Services\": [\"database\", \"service\", \"data\", \"storage\", \"management\"],\n",
    "    \"Library Systems\": [\"library\", \"system\", \"catalog\", \"borrow\", \"book\"],\n",
    "    \"Application Testing\": [\"application\", \"testing\", \"software\", \"quality\", \"test\"],\n",
    "    \"Mobile phones\": [\"mobile\", \"phone\", \"device\", \"call\", \"connectivity\"],\n",
    "    \"IT Architecture\": [\"architecture\", \"IT\", \"system\", \"design\", \"infrastructure\"],\n",
    "    \"Wired Networks\": [\"wired\", \"network\", \"connectivity\", \"cable\", \"LAN\"],\n",
    "    \"Staff meeting technologies\": [\"meeting\", \"technology\", \"conference\", \"collaboration\", \"communication\"],\n",
    "    \"Line of Business Applications\": [\"business\", \"application\", \"software\", \"solution\", \"service\"],\n",
    "    \"IT Online\": [\"online\", \"IT\", \"service\", \"support\", \"technology\"],\n",
    "    \"Purchasing IT Equipment and Software\": [\"purchasing\", \"IT\", \"equipment\", \"software\", \"acquisition\"],\n",
    "    \"Data Storage\": [\"data\", \"storage\", \"cloud\", \"archive\", \"backup\"],\n",
    "    \"Customer Relationship Management\": [\"customer\", \"relationship\", \"management\", \"CRM\", \"client\"],\n",
    "    \"Virtual Environments and Systems Management\": [\"virtual\", \"environment\", \"system\", \"management\", \"infrastructure\"],\n",
    "    \"Lecture and AV Support\": [\"lecture\", \"AV\", \"support\", \"audio\", \"visual\"],\n",
    "    \"Backup and Service Continuity\": [\"backup\", \"service\", \"continuity\", \"recovery\", \"data\"],\n",
    "    \"IT Asset Management and Licensing\": [\"asset\", \"management\", \"licensing\", \"IT\", \"inventory\"],\n",
    "}\n"
   ]
  },
  {
   "cell_type": "markdown",
   "id": "d908c19f-5131-4285-b3bd-bea57d5b12a8",
   "metadata": {},
   "source": [
    "#### 3. Generate Contextually Relevant Descriptions\n",
    "\n",
    "We define a function that appends a synthetic sentence, containing a randomly chosen keyword, to the existing ticket descriptions. This sentence is generated by Faker and is related to the ticket's \"Actual Service\".\n"
   ]
  },
  {
   "cell_type": "markdown",
   "id": "62532074-2ef6-4ac3-83d8-845c70f05e2c",
   "metadata": {},
   "source": [
    "#### 4. Process the Dataset\n",
    "\n",
    "Load the input CSV file, apply the description generation function to update ticket descriptions, and display the first few rows of the updated DataFrame to verify the changes.\n"
   ]
  },
  {
   "cell_type": "code",
   "execution_count": 1,
   "id": "dda69fc2-55ca-437f-af2a-616a40dc4003",
   "metadata": {},
   "outputs": [
    {
     "ename": "NameError",
     "evalue": "name 'pd' is not defined",
     "output_type": "error",
     "traceback": [
      "\u001b[0;31m---------------------------------------------------------------------------\u001b[0m",
      "\u001b[0;31mNameError\u001b[0m                                 Traceback (most recent call last)",
      "Cell \u001b[0;32mIn[1], line 14\u001b[0m\n\u001b[1;32m     12\u001b[0m         description \u001b[38;5;241m=\u001b[39m \u001b[38;5;124mf\u001b[39m\u001b[38;5;124m\"\u001b[39m\u001b[38;5;124mGeneral issue: \u001b[39m\u001b[38;5;132;01m{\u001b[39;00mfake\u001b[38;5;241m.\u001b[39msentence()\u001b[38;5;132;01m}\u001b[39;00m\u001b[38;5;124m \u001b[39m\u001b[38;5;132;01m{\u001b[39;00mrow[\u001b[38;5;124m'\u001b[39m\u001b[38;5;124mTicket Description\u001b[39m\u001b[38;5;124m'\u001b[39m]\u001b[38;5;132;01m}\u001b[39;00m\u001b[38;5;124m\"\u001b[39m\n\u001b[1;32m     13\u001b[0m     \u001b[38;5;28;01mreturn\u001b[39;00m description\n\u001b[0;32m---> 14\u001b[0m df_emails \u001b[38;5;241m=\u001b[39m \u001b[43mpd\u001b[49m\u001b[38;5;241m.\u001b[39mread_csv(\u001b[38;5;124m'\u001b[39m\u001b[38;5;124m./raw_data/1.csv\u001b[39m\u001b[38;5;124m'\u001b[39m)\n\u001b[1;32m     16\u001b[0m \u001b[38;5;66;03m# Generate ticket descriptions\u001b[39;00m\n\u001b[1;32m     17\u001b[0m df_emails[\u001b[38;5;124m'\u001b[39m\u001b[38;5;124mTicket Description\u001b[39m\u001b[38;5;124m'\u001b[39m] \u001b[38;5;241m=\u001b[39m df_emails\u001b[38;5;241m.\u001b[39mapply(generate_description, axis\u001b[38;5;241m=\u001b[39m\u001b[38;5;241m1\u001b[39m)\n",
      "\u001b[0;31mNameError\u001b[0m: name 'pd' is not defined"
     ]
    }
   ],
   "source": [
    "# Function to prepend new, semi-random, contextually relevant descriptions\n",
    "def generate_description(row):\n",
    "    service = row['Actual Service']\n",
    "    keywords = service_keywords.get(service, [])\n",
    "    \n",
    "    if keywords:\n",
    "        # Use Faker's random_element method to select a key phrase\n",
    "        key_phrase = fake.random_element(elements=keywords)\n",
    "        # Prepend the new description to the existing 'Ticket Description'\n",
    "        description = f\"{key_phrase.capitalize()} issue: {fake.sentence()} {row['Ticket Description']}\"\n",
    "    else:\n",
    "        description = f\"General issue: {fake.sentence()} {row['Ticket Description']}\"\n",
    "    return description\n",
    "df_emails = pd.read_csv('./raw_data/1.csv')\n",
    "\n",
    "# Generate ticket descriptions\n",
    "df_emails['Ticket Description'] = df_emails.apply(generate_description, axis=1)\n",
    "\n",
    "# Display a random sample of 10 rows to verify the changes\n",
    "print(df_emails.sample(n=10))\n"
   ]
  },
  {
   "cell_type": "markdown",
   "id": "702b95ec-f5b6-40ea-86a3-3feacf333c45",
   "metadata": {},
   "source": [
    "#### 5. Save the Enhanced Dataset\n",
    "\n",
    "Finally, we save the updated DataFrame to a new CSV file, completing the data enrichment process.\n"
   ]
  },
  {
   "cell_type": "code",
   "execution_count": 5,
   "id": "6c6ba338-a72e-4d68-ae16-979aeea540f8",
   "metadata": {},
   "outputs": [
    {
     "name": "stdout",
     "output_type": "stream",
     "text": [
      "Updated dataset saved to 'enhanced.csv'.\n"
     ]
    }
   ],
   "source": [
    "\n",
    "# Save the updated DataFrame to a new CSV file\n",
    "df_emails.to_csv('./processed_data/enhanced.csv', index=False)\n",
    "\n",
    "print(\"Updated dataset saved to 'enhanced.csv'.\")"
   ]
  },
  {
   "cell_type": "code",
   "execution_count": null,
   "id": "0f58473f-1d07-491e-bd8f-75f8da427788",
   "metadata": {},
   "outputs": [],
   "source": []
  }
 ],
 "metadata": {
  "kernelspec": {
   "display_name": "Python 3 (ipykernel)",
   "language": "python",
   "name": "python3"
  },
  "language_info": {
   "codemirror_mode": {
    "name": "ipython",
    "version": 3
   },
   "file_extension": ".py",
   "mimetype": "text/x-python",
   "name": "python",
   "nbconvert_exporter": "python",
   "pygments_lexer": "ipython3",
   "version": "3.11.6"
  }
 },
 "nbformat": 4,
 "nbformat_minor": 5
}
