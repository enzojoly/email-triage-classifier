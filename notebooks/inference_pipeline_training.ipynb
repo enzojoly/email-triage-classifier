{
 "cells": [
  {
   "cell_type": "markdown",
   "id": "f621ed6a-77f7-4ff3-93d4-f7e66dda6641",
   "metadata": {},
   "source": [
    "# Email Prediction Service Training with XLNet\n",
    "\n",
    "This Jupyter Notebook focuses on training an XLNet model specifically tailored for classifying email content. The guide outlines essential steps including model and tokenizer initialization, data preprocessing, setting up the training loop, and evaluating model performance. The training process is optimized for understanding and efficiency, ensuring a solid foundation for further development, such as integrating the model into prediction services or other applications in the future.\n"
   ]
  },
  {
   "cell_type": "markdown",
   "id": "86a742be-ef93-42f7-9225-1b3263e8ed6e",
   "metadata": {},
   "source": [
    "## Setup\n",
    "\n",
    "Before starting, ensure all necessary libraries are installed.\n"
   ]
  },
  {
   "cell_type": "code",
   "execution_count": 2,
   "id": "9e0dacb2-4492-4087-897a-dc898ccf5e6e",
   "metadata": {},
   "outputs": [
    {
     "name": "stdout",
     "output_type": "stream",
     "text": [
      "Requirement already satisfied: transformers in /opt/conda/lib/python3.11/site-packages (4.38.2)\n",
      "Requirement already satisfied: torch in /opt/conda/lib/python3.11/site-packages (2.2.1)\n",
      "Requirement already satisfied: pandas in /opt/conda/lib/python3.11/site-packages (2.2.1)\n",
      "Requirement already satisfied: matplotlib in /opt/conda/lib/python3.11/site-packages (3.8.3)\n",
      "Requirement already satisfied: seaborn in /opt/conda/lib/python3.11/site-packages (0.13.2)\n",
      "Requirement already satisfied: tqdm in /opt/conda/lib/python3.11/site-packages (4.66.1)\n",
      "Requirement already satisfied: filelock in /opt/conda/lib/python3.11/site-packages (from transformers) (3.13.1)\n",
      "Requirement already satisfied: huggingface-hub<1.0,>=0.19.3 in /opt/conda/lib/python3.11/site-packages (from transformers) (0.21.4)\n",
      "Requirement already satisfied: numpy>=1.17 in /opt/conda/lib/python3.11/site-packages (from transformers) (1.26.4)\n",
      "Requirement already satisfied: packaging>=20.0 in /opt/conda/lib/python3.11/site-packages (from transformers) (23.2)\n",
      "Requirement already satisfied: pyyaml>=5.1 in /opt/conda/lib/python3.11/site-packages (from transformers) (6.0.1)\n",
      "Requirement already satisfied: regex!=2019.12.17 in /opt/conda/lib/python3.11/site-packages (from transformers) (2023.12.25)\n",
      "Requirement already satisfied: requests in /opt/conda/lib/python3.11/site-packages (from transformers) (2.31.0)\n",
      "Requirement already satisfied: tokenizers<0.19,>=0.14 in /opt/conda/lib/python3.11/site-packages (from transformers) (0.15.2)\n",
      "Requirement already satisfied: safetensors>=0.4.1 in /opt/conda/lib/python3.11/site-packages (from transformers) (0.4.2)\n",
      "Requirement already satisfied: typing-extensions>=4.8.0 in /opt/conda/lib/python3.11/site-packages (from torch) (4.8.0)\n",
      "Requirement already satisfied: sympy in /opt/conda/lib/python3.11/site-packages (from torch) (1.12)\n",
      "Requirement already satisfied: networkx in /opt/conda/lib/python3.11/site-packages (from torch) (3.2.1)\n",
      "Requirement already satisfied: jinja2 in /opt/conda/lib/python3.11/site-packages (from torch) (3.1.2)\n",
      "Requirement already satisfied: fsspec in /opt/conda/lib/python3.11/site-packages (from torch) (2024.3.1)\n",
      "Requirement already satisfied: nvidia-cuda-nvrtc-cu12==12.1.105 in /opt/conda/lib/python3.11/site-packages (from torch) (12.1.105)\n",
      "Requirement already satisfied: nvidia-cuda-runtime-cu12==12.1.105 in /opt/conda/lib/python3.11/site-packages (from torch) (12.1.105)\n",
      "Requirement already satisfied: nvidia-cuda-cupti-cu12==12.1.105 in /opt/conda/lib/python3.11/site-packages (from torch) (12.1.105)\n",
      "Requirement already satisfied: nvidia-cudnn-cu12==8.9.2.26 in /opt/conda/lib/python3.11/site-packages (from torch) (8.9.2.26)\n",
      "Requirement already satisfied: nvidia-cublas-cu12==12.1.3.1 in /opt/conda/lib/python3.11/site-packages (from torch) (12.1.3.1)\n",
      "Requirement already satisfied: nvidia-cufft-cu12==11.0.2.54 in /opt/conda/lib/python3.11/site-packages (from torch) (11.0.2.54)\n",
      "Requirement already satisfied: nvidia-curand-cu12==10.3.2.106 in /opt/conda/lib/python3.11/site-packages (from torch) (10.3.2.106)\n",
      "Requirement already satisfied: nvidia-cusolver-cu12==11.4.5.107 in /opt/conda/lib/python3.11/site-packages (from torch) (11.4.5.107)\n",
      "Requirement already satisfied: nvidia-cusparse-cu12==12.1.0.106 in /opt/conda/lib/python3.11/site-packages (from torch) (12.1.0.106)\n",
      "Requirement already satisfied: nvidia-nccl-cu12==2.19.3 in /opt/conda/lib/python3.11/site-packages (from torch) (2.19.3)\n",
      "Requirement already satisfied: nvidia-nvtx-cu12==12.1.105 in /opt/conda/lib/python3.11/site-packages (from torch) (12.1.105)\n",
      "Requirement already satisfied: triton==2.2.0 in /opt/conda/lib/python3.11/site-packages (from torch) (2.2.0)\n",
      "Requirement already satisfied: nvidia-nvjitlink-cu12 in /opt/conda/lib/python3.11/site-packages (from nvidia-cusolver-cu12==11.4.5.107->torch) (12.4.99)\n",
      "Requirement already satisfied: python-dateutil>=2.8.2 in /opt/conda/lib/python3.11/site-packages (from pandas) (2.8.2)\n",
      "Requirement already satisfied: pytz>=2020.1 in /opt/conda/lib/python3.11/site-packages (from pandas) (2023.3.post1)\n",
      "Requirement already satisfied: tzdata>=2022.7 in /opt/conda/lib/python3.11/site-packages (from pandas) (2024.1)\n",
      "Requirement already satisfied: contourpy>=1.0.1 in /opt/conda/lib/python3.11/site-packages (from matplotlib) (1.2.0)\n",
      "Requirement already satisfied: cycler>=0.10 in /opt/conda/lib/python3.11/site-packages (from matplotlib) (0.12.1)\n",
      "Requirement already satisfied: fonttools>=4.22.0 in /opt/conda/lib/python3.11/site-packages (from matplotlib) (4.50.0)\n",
      "Requirement already satisfied: kiwisolver>=1.3.1 in /opt/conda/lib/python3.11/site-packages (from matplotlib) (1.4.5)\n",
      "Requirement already satisfied: pillow>=8 in /opt/conda/lib/python3.11/site-packages (from matplotlib) (10.2.0)\n",
      "Requirement already satisfied: pyparsing>=2.3.1 in /opt/conda/lib/python3.11/site-packages (from matplotlib) (3.1.2)\n",
      "Requirement already satisfied: six>=1.5 in /opt/conda/lib/python3.11/site-packages (from python-dateutil>=2.8.2->pandas) (1.16.0)\n",
      "Requirement already satisfied: MarkupSafe>=2.0 in /opt/conda/lib/python3.11/site-packages (from jinja2->torch) (2.1.3)\n",
      "Requirement already satisfied: charset-normalizer<4,>=2 in /opt/conda/lib/python3.11/site-packages (from requests->transformers) (3.3.0)\n",
      "Requirement already satisfied: idna<4,>=2.5 in /opt/conda/lib/python3.11/site-packages (from requests->transformers) (3.4)\n",
      "Requirement already satisfied: urllib3<3,>=1.21.1 in /opt/conda/lib/python3.11/site-packages (from requests->transformers) (2.0.7)\n",
      "Requirement already satisfied: certifi>=2017.4.17 in /opt/conda/lib/python3.11/site-packages (from requests->transformers) (2023.7.22)\n",
      "Requirement already satisfied: mpmath>=0.19 in /opt/conda/lib/python3.11/site-packages (from sympy->torch) (1.3.0)\n"
     ]
    }
   ],
   "source": [
    "!pip install transformers torch pandas matplotlib seaborn tqdm"
   ]
  },
  {
   "cell_type": "markdown",
   "id": "89df1f52-236f-4c43-9bdd-4f150a63b986",
   "metadata": {},
   "source": [
    "## Step 1: Import Required Libraries\n",
    "\n",
    "Import all necessary libraries for the training process.\n",
    "\n"
   ]
  },
  {
   "cell_type": "code",
   "execution_count": 3,
   "id": "dc45b8af-e4bc-4377-a857-5fed39fc95c7",
   "metadata": {},
   "outputs": [],
   "source": [
    "import pandas as pd\n",
    "import torch\n",
    "from transformers import XLNetTokenizer, XLNetForSequenceClassification\n",
    "from torch.utils.data import Dataset, DataLoader\n",
    "from torch.optim import AdamW\n",
    "from tqdm.auto import tqdm  # Use auto to ensure compatibility in Jupyter\n",
    "import matplotlib.pyplot as plt\n",
    "import seaborn as sns\n"
   ]
  },
  {
   "cell_type": "markdown",
   "id": "69a661c4-4cd5-4221-8a52-012bf685c3b6",
   "metadata": {},
   "source": [
    "## Step 2: Prepare the Dataset\n",
    "\n",
    "Load and preprocess the dataset, including converting categorical labels into numeric ones."
   ]
  },
  {
   "cell_type": "code",
   "execution_count": 4,
   "id": "64b3386a-b9a2-424c-8012-55a21a5f5138",
   "metadata": {},
   "outputs": [
    {
     "name": "stdout",
     "output_type": "stream",
     "text": [
      "Dataset loaded successfully.\n",
      "Service to Label Mapping: {'UWE Devices and Hardware Support': 0, 'Software Delivery': 1, 'IT Service Desk and Customer Support': 2, 'Lecture and AV Technologies': 3, 'Virtual Environments': 4, 'Student Application Experience': 5, 'Digital Learning': 6, 'Facilities - Business Systems': 7, 'Password and Identity Management': 8, 'Staff Printing': 9, 'Facilities - Operations': 10, 'Collaboration Tools': 11, 'Remote Connectivity': 12, 'Student Records/Administration': 13, 'Web and intranet systems': 14, 'Student Printing': 15, 'UWE Device Management': 16, 'PC, Mobile Device, and Software Delivery': 17, 'Email and Calendaring': 18, 'WiFi Networks': 19, 'Web Services': 20, 'Telephony and Video Conferencing': 21, 'Service Desk and Customer Support': 22, 'Software Usage and Availability': 23, 'Authentication and Identity Management': 24, 'Desktop Software Deployment': 25, 'Virtual Learning Environments': 26, 'Student Journey Systems': 27, 'Networking Service': 28, 'Teaching and Audio Visual Support': 29, 'Monitoring and Reporting Services': 30, 'Finance Systems': 31, 'Email and Calendars': 32, 'File Storage': 33, 'Campus phone handsets/headsets': 34, 'Timetabling Systems': 35, 'Data/Application Integration': 36, 'Telephone Switchboard': 37, 'HR Systems': 38, 'Database Services': 39, 'Library Systems': 40, 'Application Testing': 41, 'Mobile phones': 42, 'IT Architecture': 43, 'Wired Networks': 44, 'Staff meeting technologies': 45, 'Line of Business Applications': 46, 'IT Online': 47, 'Purchasing IT Equipment and Software': 48, 'Data Storage': 49, 'Customer Relationship Management': 50, 'Virtual Environments and Systems Management': 51, 'Lecture and AV Support': 52, 'Backup and Service Continuity': 53, 'IT Asset Management and Licensing': 54}\n",
      "                                Service  First Call Resolution  \\\n",
      "0      UWE Devices and Hardware Support                  False   \n",
      "1      UWE Devices and Hardware Support                  False   \n",
      "2                     Software Delivery                   True   \n",
      "3  IT Service Desk and Customer Support                   True   \n",
      "4      UWE Devices and Hardware Support                  False   \n",
      "\n",
      "                         Actual Service  \\\n",
      "0      UWE Devices and Hardware Support   \n",
      "1      UWE Devices and Hardware Support   \n",
      "2                     Software Delivery   \n",
      "3  IT Service Desk and Customer Support   \n",
      "4      UWE Devices and Hardware Support   \n",
      "\n",
      "                                  Ticket Description  Label  \n",
      "0  Device issue: Mean unit water fire speak sprin...      0  \n",
      "1  Support issue: Movement pretty order national ...      0  \n",
      "2  Update issue: Morning we voice technology. The...      1  \n",
      "3  Helpdesk issue: Fall home hair speak area diff...      2  \n",
      "4  Device issue: Friend reality goal across.  - P...      0  \n"
     ]
    }
   ],
   "source": [
    "# Load the dataset\n",
    "df = pd.read_csv('./processed_data/enhanced.csv')\n",
    "print(\"Dataset loaded successfully.\")\n",
    "\n",
    "# Map 'Actual Service' to numeric labels\n",
    "unique_services = df['Actual Service'].unique()\n",
    "service_to_label = {service: i for i, service in enumerate(unique_services)}\n",
    "df['Label'] = df['Actual Service'].apply(lambda x: service_to_label[x])\n",
    "\n",
    "print(\"Service to Label Mapping:\", service_to_label)\n",
    "print(df.head())\n"
   ]
  },
  {
   "cell_type": "markdown",
   "id": "08ee562c-0ebb-40c3-b667-3ed3884e65d8",
   "metadata": {},
   "source": [
    "## Step 3: Define the Dataset Class\n",
    "Create a custom dataset class to handle tokenization and data preparation for training."
   ]
  },
  {
   "cell_type": "code",
   "execution_count": 5,
   "id": "d856d988-abd2-466c-9c46-5c50b50ef56e",
   "metadata": {},
   "outputs": [
    {
     "name": "stdout",
     "output_type": "stream",
     "text": [
      "EmailDataset class defined.\n"
     ]
    }
   ],
   "source": [
    "class EmailDataset(Dataset):\n",
    "    def __init__(self, tokenizer, df, max_len=512):\n",
    "        self.tokenizer = tokenizer\n",
    "        self.texts = df['Ticket Description'].tolist()\n",
    "        self.labels = df['Label'].tolist()\n",
    "        self.max_len = max_len\n",
    "\n",
    "    def __len__(self):\n",
    "        return len(self.texts)\n",
    "\n",
    "    def __getitem__(self, idx):\n",
    "        text = self.texts[idx]\n",
    "        label = self.labels[idx]\n",
    "        inputs = self.tokenizer.encode_plus(\n",
    "            text,\n",
    "            None,\n",
    "            add_special_tokens=True,\n",
    "            max_length=self.max_len,\n",
    "            padding='max_length',\n",
    "            return_attention_mask=True,\n",
    "            truncation=True,\n",
    "            return_tensors='pt'\n",
    "        )\n",
    "        return {\n",
    "            'input_ids': inputs['input_ids'].flatten(),\n",
    "            'attention_mask': inputs['attention_mask'].flatten(),\n",
    "            'labels': torch.tensor(label, dtype=torch.long)\n",
    "        }\n",
    "\n",
    "print(\"EmailDataset class defined.\")\n"
   ]
  },
  {
   "cell_type": "markdown",
   "id": "fdfc3f20-b052-40db-ba0c-e6afcbccf408",
   "metadata": {},
   "source": [
    "## Step 4: Initialize Model and Tokenizer\n",
    "Load the XLNet model and tokenizer with the appropriate number of labels."
   ]
  },
  {
   "cell_type": "code",
   "execution_count": 6,
   "id": "96a1e2f6-b845-4d5f-a43d-418e90af3045",
   "metadata": {},
   "outputs": [
    {
     "name": "stderr",
     "output_type": "stream",
     "text": [
      "Some weights of XLNetForSequenceClassification were not initialized from the model checkpoint at xlnet-base-cased and are newly initialized: ['logits_proj.bias', 'logits_proj.weight', 'sequence_summary.summary.bias', 'sequence_summary.summary.weight']\n",
      "You should probably TRAIN this model on a down-stream task to be able to use it for predictions and inference.\n"
     ]
    },
    {
     "name": "stdout",
     "output_type": "stream",
     "text": [
      "Model and tokenizer loaded.\n"
     ]
    }
   ],
   "source": [
    "MODEL_NAME = 'xlnet-base-cased'\n",
    "NUM_LABELS = len(unique_services)\n",
    "\n",
    "def load_model():\n",
    "    tokenizer = XLNetTokenizer.from_pretrained(MODEL_NAME)\n",
    "    model = XLNetForSequenceClassification.from_pretrained(MODEL_NAME, num_labels=NUM_LABELS)\n",
    "    return model, tokenizer\n",
    "\n",
    "model, tokenizer = load_model()\n",
    "print(\"Model and tokenizer loaded.\")\n"
   ]
  },
  {
   "cell_type": "markdown",
   "id": "1adb7372-28a2-4438-9a34-1b1654e36663",
   "metadata": {},
   "source": [
    "## Step 5: Prepare the Data Loader\n",
    "Initialize the dataset and data loader for training."
   ]
  },
  {
   "cell_type": "code",
   "execution_count": 10,
   "id": "e41a6250-1cdf-45c0-8751-298997ec85b4",
   "metadata": {},
   "outputs": [
    {
     "name": "stdout",
     "output_type": "stream",
     "text": [
      "Dataloader is ready.\n"
     ]
    }
   ],
   "source": [
    "dataset = EmailDataset(tokenizer, df)\n",
    "dataloader = DataLoader(dataset, batch_size=4) #adjust batch size, more = more memory\n",
    "print(\"Dataloader is ready.\")\n"
   ]
  },
  {
   "cell_type": "markdown",
   "id": "ee2a4c06-0926-4296-b73d-0c2f07ac998f",
   "metadata": {},
   "source": [
    "## Step 6: Setup Training\n",
    "Configure the device, optimizer, and move the model to the appropriate device."
   ]
  },
  {
   "cell_type": "code",
   "execution_count": 11,
   "id": "8d6fa039-e40b-43e4-80e3-4fe98af36edc",
   "metadata": {},
   "outputs": [
    {
     "name": "stdout",
     "output_type": "stream",
     "text": [
      "Using device: cpu\n"
     ]
    }
   ],
   "source": [
    "device = torch.device(\"cuda\" if torch.cuda.is_available() else \"cpu\")\n",
    "model.to(device)\n",
    "optimizer = AdamW(model.parameters(), lr=5e-5)\n",
    "\n",
    "print(f\"Using device: {device}\")\n"
   ]
  },
  {
   "cell_type": "markdown",
   "id": "7a2212fc-adb7-486a-b04c-0733477e223a",
   "metadata": {},
   "source": [
    "## Step 7: Train the Model\n",
    "Implement the training loop, including monitoring for loss and progress.\n",
    "\n",
    "### Gradient Accumulation\n",
    "Gradient accumulation is something we can use to effectively increase the batch size without increasing the memory requirements. It splits the batch into smaller mini-batches and accumulates the gradients over these mini-batches before performing a single optimization step."
   ]
  },
  {
   "cell_type": "code",
   "execution_count": 12,
   "id": "19ae77cd-b4a4-43e7-8aa1-c069e6146db3",
   "metadata": {},
   "outputs": [
    {
     "data": {
      "application/vnd.jupyter.widget-view+json": {
       "model_id": "85f85ea75e4c4e24b07b5a7ee5d9df3b",
       "version_major": 2,
       "version_minor": 0
      },
      "text/plain": [
       "Epoch 1:   0%|          | 0/2342 [00:00<?, ?it/s]"
      ]
     },
     "metadata": {},
     "output_type": "display_data"
    },
    {
     "name": "stdout",
     "output_type": "stream",
     "text": [
      "Average Loss for Epoch 1: 0.75\n"
     ]
    },
    {
     "data": {
      "application/vnd.jupyter.widget-view+json": {
       "model_id": "405d6cc8de07477e93d748130c0c98ad",
       "version_major": 2,
       "version_minor": 0
      },
      "text/plain": [
       "Epoch 2:   0%|          | 0/2342 [00:00<?, ?it/s]"
      ]
     },
     "metadata": {},
     "output_type": "display_data"
    },
    {
     "name": "stdout",
     "output_type": "stream",
     "text": [
      "Average Loss for Epoch 2: 0.37\n"
     ]
    },
    {
     "data": {
      "application/vnd.jupyter.widget-view+json": {
       "model_id": "583eeac5e27243f4aa767c4c033747c9",
       "version_major": 2,
       "version_minor": 0
      },
      "text/plain": [
       "Epoch 3:   0%|          | 0/2342 [00:00<?, ?it/s]"
      ]
     },
     "metadata": {},
     "output_type": "display_data"
    },
    {
     "name": "stdout",
     "output_type": "stream",
     "text": [
      "Average Loss for Epoch 3: 0.29\n"
     ]
    }
   ],
   "source": [
    "EPOCHS = 3\n",
    "accumulation_steps = 2  # Accumulate gradients over 2 forward passes\n",
    "\n",
    "loss_values = []  # Ensure this list is defined outside the loop\n",
    "\n",
    "model.train()\n",
    "for epoch in range(EPOCHS):\n",
    "    total_loss = 0\n",
    "    progress_bar = tqdm(dataloader, desc=f\"Epoch {epoch + 1}\")\n",
    "    optimizer.zero_grad()  # Move zero_grad() outside the batch loop\n",
    "    for step, batch in enumerate(progress_bar):\n",
    "        batch = {k: v.to(device) for k, v in batch.items()}\n",
    "\n",
    "        outputs = model(**batch)\n",
    "        loss = outputs.loss / accumulation_steps  # Scale loss\n",
    "        total_loss += loss.item()\n",
    "\n",
    "        loss.backward()\n",
    "        if (step + 1) % accumulation_steps == 0:\n",
    "            optimizer.step()\n",
    "            optimizer.zero_grad()\n",
    "\n",
    "        progress_bar.set_postfix({'loss': f'{(total_loss * accumulation_steps):.2f}'})\n",
    "\n",
    "    # Calculate and store the average loss for the epoch\n",
    "    avg_epoch_loss = total_loss / len(dataloader)\n",
    "    loss_values.append(avg_epoch_loss)  # Append the average loss to the list\n",
    "\n",
    "    print(f\"Average Loss for Epoch {epoch + 1}: {avg_epoch_loss:.2f}\")"
   ]
  },
  {
   "cell_type": "markdown",
   "id": "cd9122b7-b72e-46f8-bc26-e70b28eab8a1",
   "metadata": {},
   "source": [
    "## Step 8: Saving the Trained Model and Tokenizer\n",
    "\n",
    "After the model has been trained, it can be saved using PyTorch's save function. It's also a good practice to save the tokenizer alongside the model, especially when dealing with NLP tasks, to ensure consistency during inference."
   ]
  },
  {
   "cell_type": "code",
   "execution_count": 14,
   "id": "0e8fef0c-899d-48ba-8a34-479c78c516c0",
   "metadata": {},
   "outputs": [
    {
     "name": "stdout",
     "output_type": "stream",
     "text": [
      "Model saved to ./model/xlnet_email_classifier_model\n",
      "Tokenizer saved to ./model/xlnet_email_classifier_tokenizer\n"
     ]
    }
   ],
   "source": [
    "# Define a path for saving the model and tokenizer\n",
    "model_path = './model/xlnet_email_classifier_model'\n",
    "tokenizer_path = './model/xlnet_email_classifier_tokenizer'\n",
    "\n",
    "# Save the model\n",
    "model.save_pretrained(model_path)\n",
    "print(f\"Model saved to {model_path}\")\n",
    "\n",
    "# Save the tokenizer\n",
    "tokenizer.save_pretrained(tokenizer_path)\n",
    "print(f\"Tokenizer saved to {tokenizer_path}\")\n"
   ]
  },
  {
   "cell_type": "markdown",
   "id": "3211f8c6-93f5-40a5-ab5c-595040a2ccfb",
   "metadata": {},
   "source": [
    "## Step 9: Plotting the Training loss\n",
    "\n",
    "At the end of each epoch, the average loss is calculated by dividing the total loss (accumulated over all batches) by the number of batches (len(dataloader)). This average loss is then appended to the loss_values list. After the training loop completes, loss_values will correctly contain the average loss for each epoch, making it ready for use in plotting and other analysis."
   ]
  },
  {
   "cell_type": "code",
   "execution_count": 15,
   "id": "da835655-5ae7-45f0-8574-ca58a53e44f3",
   "metadata": {},
   "outputs": [
    {
     "data": {
      "image/png": "[encoded data removed]",
      "text/plain": [
       "<Figure size 1000x600 with 1 Axes>"
      ]
     },
     "metadata": {},
     "output_type": "display_data"
    }
   ],
   "source": [
    "# Set the Seaborn theme if you like\n",
    "sns.set_theme(style=\"whitegrid\")\n",
    "\n",
    "# Plotting\n",
    "plt.figure(figsize=(10, 6))  # Set the figure size\n",
    "plt.plot(range(1, EPOCHS+1), loss_values, 'o-', label='Training Loss')  # Plot the training loss\n",
    "\n",
    "# Add titles and labels\n",
    "plt.title('Training Loss Over Epochs')\n",
    "plt.xlabel('Epoch')\n",
    "plt.ylabel('Loss')\n",
    "plt.xticks(range(1, EPOCHS + 1))  # Ensure x-axis labels match epochs\n",
    "plt.legend()\n",
    "\n",
    "# Show the plot\n",
    "plt.show()\n"
   ]
  },
  {
   "cell_type": "code",
   "execution_count": null,
   "id": "879f586d-14ef-4a5b-a593-5535c521c995",
   "metadata": {},
   "outputs": [],
   "source": []
  }
 ],
 "metadata": {
  "kernelspec": {
   "display_name": "Python 3 (ipykernel)",
   "language": "python",
   "name": "python3"
  },
  "language_info": {
   "codemirror_mode": {
    "name": "ipython",
    "version": 3
   },
   "file_extension": ".py",
   "mimetype": "text/x-python",
   "name": "python",
   "nbconvert_exporter": "python",
   "pygments_lexer": "ipython3",
   "version": "3.11.6"
  }
 },
 "nbformat": 4,
 "nbformat_minor": 5
}
